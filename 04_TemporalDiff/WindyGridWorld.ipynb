{
 "cells": [
  {
   "cell_type": "markdown",
   "metadata": {},
   "source": [
    "### Windy Gridworld problem (SARSA and Q-learning approaches)\n",
    "\n",
    "### Author: Kamal Mishra"
   ]
  },
  {
   "cell_type": "markdown",
   "metadata": {},
   "source": [
    "### Problem Statement\n",
    "\n",
    "We are considering the \"Windy Grid World\" setting here as in the Sutton and Barto Book. We will consider the same setting of (0-0-0-1-1-1-2-2-1-0)\n",
    "\n",
    "![alt text](https://github.com/kkm24132/ReinforcementLearning/blob/main/04_TemporalDiff/figure/Ex6.5_WindyGridWorld.png \"WindyGridworld\")\n",
    "\n",
    "* Apply SARSA algorithm with below considerations:\n",
    "    * a) Epsilon = 0.1, Alpha = 0.5\n",
    "    * b) Epsilon = 0.2, Alpha = 0.1\n",
    "    * c) Epsilon = 0.05, Alpha = 0.2\n",
    "\n",
    "* Apply Q-Learning algorithm with below considerations:\n",
    "    * a) Epsilon = 0.1, Alpha = 0.5\n",
    "    * b) Epsilon = 0.2, Alpha = 0.1\n",
    "    * c) Epsilon = 0.05, Alpha = 0.2\n",
    "\n",
    "We will have to run above experiments for 300 episodes and plot charts. (Episodes vs No of time steps)\n",
    "\n",
    "* We also need to report the minimum length episode that each algorithm is able to learn.\n"
   ]
  },
  {
   "cell_type": "markdown",
   "metadata": {},
   "source": [
    "### 1. Import required libraries\n",
    "\n",
    "Let us first import these desired packages / libraries"
   ]
  },
  {
   "cell_type": "code",
   "execution_count": 1,
   "metadata": {},
   "outputs": [],
   "source": [
    "import numpy as np\n",
    "#from collections import defaultdict\n",
    "import pylab as pl\n",
    "import matplotlib.pyplot as plt \n",
    "import time # We will use this to time our experiments for various observations\n",
    "\n",
    "%matplotlib inline"
   ]
  },
  {
   "cell_type": "markdown",
   "metadata": {},
   "source": [
    "### 2. Define the gridWorld class\n",
    "\n",
    "Let us define the gridWorld class with settings that are considered."
   ]
  },
  {
   "cell_type": "code",
   "execution_count": 2,
   "metadata": {},
   "outputs": [],
   "source": [
    "class gridWorld(object):\n",
    "    \n",
    "    def __init__(self):\n",
    "        super(gridWorld, self).__init__()\n",
    "        self.start = 0\n",
    "        self.goal = 0\n",
    "        # Provide the setting of gridWorld rows and columns\n",
    "        self.row = 7\n",
    "        self.col = 10\n",
    "        self.x_max = self.col - 1\n",
    "        self.y_max = self.row - 1\n",
    "        # Declare windy columns and their effect\n",
    "        self.wind_1 = [3, 4, 5, 8]\n",
    "        self.wind_2 = [6, 7]\n",
    "        # Provide action list : Up/Down/Left/Right\n",
    "        self.actions_list = ['N', 'E', 'S', 'W']\n",
    "        \n",
    "    def cell(self,pos):\n",
    "        return pos[1] + self.col * pos[0]\n",
    "    \n",
    "    def setTerminal(self, startState, goalState):\n",
    "        # startState and goalState are tuples\n",
    "        self.start = self.cell(startState)\n",
    "        self.goal = self.cell(goalState)\n",
    "        \n",
    "    def nextState(self, state, action):\n",
    "        # The \"state\" parameter is an integer that represents position in grid\n",
    "        x = state % self.col\n",
    "        y = (state - x) / self.col\n",
    "        # Now let's define and interpret actions\n",
    "        del_x = 0\n",
    "        del_y = 0\n",
    "        if action == 'E':\n",
    "            del_x = 1\n",
    "        elif action == 'W':\n",
    "            del_x = -1\n",
    "        elif action == 'N':\n",
    "            del_y = -1\n",
    "        elif action == 'S':\n",
    "            del_y = 1\n",
    "        else:\n",
    "            raise('Invalid action! Actions taken must be in: ',self.actions_list)\n",
    "        # Now move to new position\n",
    "        new_x = max(0, min(x + del_x, self.x_max))\n",
    "        new_y = max(0, min(y + del_y, self.y_max))\n",
    "        # When wind blows to a new state\n",
    "        if new_x in self.wind_1:\n",
    "            new_y = max(0, new_y - 1)\n",
    "        if new_x in self.wind_2:\n",
    "            new_y = max(0, new_y - 2)\n",
    "        # now let's return these new state values\n",
    "        return self.cell((new_y,new_x))\n",
    "    \n",
    "    def checkTerminal(self, state):\n",
    "        return state == self.goal\n",
    "    \n",
    "    def rewardFunction(self, state_prime):\n",
    "        # When it reaches goal state then reward is 0 else all actions should yield -1\n",
    "        if state_prime == self.goal:\n",
    "            return 0\n",
    "        else:\n",
    "            return -1\n",
    "        \n",
    "def trajectoryPath(world, traj):\n",
    "    # Initialize gridworld\n",
    "    world_map = np.zeros((world.row, world.col))\n",
    "    for i,state in enumerate(traj):\n",
    "        x = int(state % world.col)\n",
    "        y = int((state - x) / world.col)\n",
    "        world_map[y, x] = i + 1\n",
    "    print(world_map)\n",
    "    print(\"\\n\")"
   ]
  },
  {
   "cell_type": "markdown",
   "metadata": {},
   "source": [
    "### 3. SARSA algorithm\n",
    "\n",
    "Let us consider SARSA algorithm.\n",
    "We have considered 300 episodes."
   ]
  },
  {
   "cell_type": "code",
   "execution_count": 3,
   "metadata": {},
   "outputs": [],
   "source": [
    "def gridWorld_SARSA(world, startState, goalState, alpha=0.1, gamma=1, epsilon=0.1):\n",
    "    # Consider input parameters:\n",
    "    # gamma = 1 as discounted factor\n",
    "    # default values of alpha and epsilon considered, it will be changed for multiple analysis\n",
    "    world.setTerminal(startState, goalState)\n",
    "    # Initialize Q(s,a)\n",
    "    q_table = {}\n",
    "    for state in range(world.row * world.col):\n",
    "        q_table[state] = {}\n",
    "        for act in world.actions_list:\n",
    "            q_table[state][act] = 0\n",
    "    \n",
    "    # function for greedy action\n",
    "    def epsGreedy(episode, q_dict):\n",
    "        def greedyAct(_q_dict):\n",
    "            greedy_act = ''\n",
    "            max_q = -1e10\n",
    "            for act in world.actions_list:\n",
    "                if _q_dict[act] > max_q:\n",
    "                    greedy_act = act\n",
    "                    max_q = _q_dict[act]\n",
    "            return greedy_act\n",
    "        \n",
    "        m = len(world.actions_list)\n",
    "        greedy_act = greedyAct(q_dict)\n",
    "        p = []\n",
    "        for act in world.actions_list:\n",
    "            if act == greedy_act:\n",
    "                p.append((epsilon * 1. / m) + 1 - epsilon)\n",
    "            else:\n",
    "                p.append(epsilon * 1. / m)\n",
    "        choice = np.random.choice(world.actions_list,size = 1, p = p)\n",
    "        return choice[0]\n",
    "    \n",
    "    ep = 1 # Episode number\n",
    "    ep_max = 300 # number of max episodes\n",
    "    step_ep_list = []\n",
    "    step = 0\n",
    "    while ep < ep_max:\n",
    "        #print(\"Episode: \", ep)\n",
    "        # Initialize state\n",
    "        state = world.cell(startState)\n",
    "        trajectory = [state]\n",
    "        # Choose action from state\n",
    "        act = epsGreedy(ep, q_table[state])\n",
    "        while not world.checkTerminal(state):\n",
    "            state_prime = world.nextState(state, act)\n",
    "            reward = world.rewardFunction(state_prime)\n",
    "            act_prime = epsGreedy(ep, q_table[state_prime])\n",
    "            q_table[state][act] += alpha * (reward + gamma * q_table[state_prime][act_prime] - q_table[state][act])\n",
    "            state = state_prime\n",
    "            act = act_prime\n",
    "            # Increase Step Counter\n",
    "            step += 1\n",
    "            # Store the index of the episode of this time step\n",
    "            step_ep_list.append(ep)\n",
    "            # Update the trajectory\n",
    "            trajectory.append(state)\n",
    "        \n",
    "        if ep == (ep_max - 1):\n",
    "            trajectoryPath(world, trajectory)\n",
    "        # Increase the episode counter\n",
    "        ep += 1\n",
    "    \n",
    "    start_time = time.time()\n",
    "    plt.plot(step_ep_list)\n",
    "    print(\"Time elapsed is (in Secs): \", time.time() - start_time)\n",
    "    plt.title('WindyGridWorld_SARSA ', fontsize = 'large')\n",
    "    plt.xlabel(\"Number of Steps taken\")\n",
    "    plt.ylabel(\"Number of Episodes\")\n",
    "    plt.show()"
   ]
  },
  {
   "cell_type": "markdown",
   "metadata": {},
   "source": [
    "Now we will execute SARSA algorithm with different combinations of ∈ and α.\n",
    "\n",
    "We will plot the chart for Number of Episodes vs Number of Steps taken for 3 combinations.\n",
    "* ∈=0.1,α=0.5\n",
    "* ∈=0.2,α=0.1\n",
    "* ∈=0.05,α=0.2\n",
    "\n",
    "We will also see the path taken from steps perspective to reach from START state to GOAL state."
   ]
  },
  {
   "cell_type": "markdown",
   "metadata": {},
   "source": [
    "### 3(a) Experiment Observations for SARSA, ∈=0.1,α=0.5"
   ]
  },
  {
   "cell_type": "code",
   "execution_count": 8,
   "metadata": {},
   "outputs": [
    {
     "name": "stdout",
     "output_type": "stream",
     "text": [
      "Plot for Option: ∈=0.1,α=0.5 \n",
      "\n",
      "[[ 0.  0.  0.  5.  6.  7.  8.  9. 10. 11.]\n",
      " [ 0.  0.  0.  0.  0.  0.  0.  0.  0. 12.]\n",
      " [ 0.  0.  0.  4.  0.  0.  0.  0.  0. 13.]\n",
      " [ 1.  2.  3.  0.  0.  0.  0. 19.  0. 14.]\n",
      " [ 0.  0.  0.  0.  0.  0.  0.  0.  0. 15.]\n",
      " [ 0.  0.  0.  0.  0.  0.  0.  0. 18. 16.]\n",
      " [ 0.  0.  0.  0.  0.  0.  0.  0.  0. 17.]]\n",
      "\n",
      "\n",
      "Time elapsed is (in Secs):  0.011701583862304688\n"
     ]
    },
    {
     "data": {
      "image/png": "[encoded data removed]",
      "text/plain": [
       "<Figure size 432x288 with 1 Axes>"
      ]
     },
     "metadata": {
      "needs_background": "light"
     },
     "output_type": "display_data"
    }
   ],
   "source": [
    "if __name__ == '__main__':\n",
    "    startState = (3, 0)\n",
    "    goalState = (3, 7)\n",
    "    world = gridWorld()\n",
    "    print(\"Plot for Option: ∈=0.1,α=0.5 \\n\")\n",
    "    gridWorld_SARSA(world, startState, goalState, alpha=0.5, epsilon=0.1)"
   ]
  },
  {
   "cell_type": "markdown",
   "metadata": {},
   "source": [
    "We observed that it took 19 steps to reach GOAL state for SARSA with ∈=0.1,α=0.5 option. Discounted factor gamma is set as 1."
   ]
  },
  {
   "cell_type": "markdown",
   "metadata": {},
   "source": [
    "### 3(b) Experiment Observations for SARSA, ∈=0.2,α=0.1"
   ]
  },
  {
   "cell_type": "code",
   "execution_count": 21,
   "metadata": {},
   "outputs": [
    {
     "name": "stdout",
     "output_type": "stream",
     "text": [
      "Plot for Option: ∈=0.2,α=0.1 \n",
      "\n",
      "[[ 0.  0.  0.  0.  0. 12. 13. 15. 16. 17.]\n",
      " [ 0.  0.  0.  0. 11.  0.  0.  0.  0. 18.]\n",
      " [ 0.  0.  0.  0.  0.  0.  0.  0.  0. 19.]\n",
      " [ 1.  0.  0.  0. 10.  0.  0. 25.  0. 20.]\n",
      " [ 3.  0.  0.  9.  0.  0.  0.  0.  0. 21.]\n",
      " [ 4.  5.  6.  0.  0.  0.  0.  0. 24. 22.]\n",
      " [ 0.  0.  0.  0.  0.  0.  0.  0.  0. 23.]]\n",
      "\n",
      "\n",
      "Time elapsed is (in Secs):  0.010012388229370117\n"
     ]
    },
    {
     "data": {
      "image/png": "[encoded data removed]",
      "text/plain": [
       "<Figure size 432x288 with 1 Axes>"
      ]
     },
     "metadata": {
      "needs_background": "light"
     },
     "output_type": "display_data"
    }
   ],
   "source": [
    "if __name__ == '__main__':\n",
    "    startState = (3, 0)\n",
    "    goalState = (3, 7)\n",
    "    world = gridWorld()\n",
    "    print(\"Plot for Option: ∈=0.2,α=0.1 \\n\")\n",
    "    gridWorld_SARSA(world, startState, goalState, alpha=0.1, epsilon=0.2)"
   ]
  },
  {
   "cell_type": "markdown",
   "metadata": {},
   "source": [
    "We observed that it took 25 steps to reach GOAL state for SARSA with ∈=0.1,α=0.5 option. Discounted factor gamma is set as 1."
   ]
  },
  {
   "cell_type": "markdown",
   "metadata": {},
   "source": [
    "### 3(c) Experiment Observations for SARSA, ∈=0.05,α=0.2"
   ]
  },
  {
   "cell_type": "code",
   "execution_count": 25,
   "metadata": {},
   "outputs": [
    {
     "name": "stdout",
     "output_type": "stream",
     "text": [
      "Plot for Option: ∈=0.05,α=0.2 \n",
      "\n",
      "[[ 0.  0.  0.  0.  0.  6.  7.  8.  9. 10.]\n",
      " [ 0.  0.  0.  0.  5.  0.  0.  0.  0. 11.]\n",
      " [ 0.  0.  0.  4.  0.  0.  0.  0.  0. 12.]\n",
      " [ 1.  2.  3.  0.  0.  0.  0. 18.  0. 13.]\n",
      " [ 0.  0.  0.  0.  0.  0.  0.  0.  0. 14.]\n",
      " [ 0.  0.  0.  0.  0.  0.  0.  0. 17. 15.]\n",
      " [ 0.  0.  0.  0.  0.  0.  0.  0.  0. 16.]]\n",
      "\n",
      "\n",
      "Time elapsed is (in Secs):  0.009961605072021484\n"
     ]
    },
    {
     "data": {
      "image/png": "[encoded data removed]",
      "text/plain": [
       "<Figure size 432x288 with 1 Axes>"
      ]
     },
     "metadata": {
      "needs_background": "light"
     },
     "output_type": "display_data"
    }
   ],
   "source": [
    "if __name__ == '__main__':\n",
    "    startState = (3, 0)\n",
    "    goalState = (3, 7)\n",
    "    world = gridWorld()\n",
    "    print(\"Plot for Option: ∈=0.05,α=0.2 \\n\")\n",
    "    gridWorld_SARSA(world, startState, goalState, alpha=0.2, epsilon=0.05)"
   ]
  },
  {
   "cell_type": "markdown",
   "metadata": {},
   "source": [
    "We observed that it took 18 steps to reach GOAL state for SARSA with ∈=0.05,α=0.2 option. Discounted factor gamma is set as 1."
   ]
  },
  {
   "cell_type": "markdown",
   "metadata": {},
   "source": [
    "We will also see what is the minimum number of episode that the SARSA algorithm is able to learn."
   ]
  },
  {
   "cell_type": "code",
   "execution_count": 26,
   "metadata": {},
   "outputs": [
    {
     "name": "stdout",
     "output_type": "stream",
     "text": [
      "Plot for Option: ∈=0.1,α=0.5 \n",
      "\n",
      "[[ 0.  0.  0.  0.  0.  6.  7.  8.  9. 10.]\n",
      " [ 0.  0.  0.  0.  5.  0.  0.  0.  0. 11.]\n",
      " [ 0.  0.  0.  4.  0.  0.  0.  0.  0. 12.]\n",
      " [ 1.  2.  3.  0.  0.  0.  0. 18.  0. 13.]\n",
      " [ 0.  0.  0.  0.  0.  0.  0.  0.  0. 14.]\n",
      " [ 0.  0.  0.  0.  0.  0.  0.  0. 17. 15.]\n",
      " [ 0.  0.  0.  0.  0.  0.  0.  0.  0. 16.]]\n",
      "\n",
      "\n",
      "Time elapsed is (in Secs):  0.01000070571899414\n"
     ]
    },
    {
     "data": {
      "image/png": "[encoded data removed]",
      "text/plain": [
       "<Figure size 432x288 with 1 Axes>"
      ]
     },
     "metadata": {
      "needs_background": "light"
     },
     "output_type": "display_data"
    }
   ],
   "source": [
    "def gridWorld_SARSA(world, startState, goalState, alpha=0.1, gamma=1, epsilon=0.1):\n",
    "    # Consider input parameters:\n",
    "    # gamma = 1 as discounted factor\n",
    "    # default values of alpha and epsilon considered, it will be changed for multiple analysis\n",
    "    world.setTerminal(startState, goalState)\n",
    "    # Initialize Q(s,a)\n",
    "    q_table = {}\n",
    "    for state in range(world.row * world.col):\n",
    "        q_table[state] = {}\n",
    "        for act in world.actions_list:\n",
    "            q_table[state][act] = 0\n",
    "    \n",
    "    # function for greedy action\n",
    "    def epsGreedy(episode, q_dict):\n",
    "        def greedyAct(_q_dict):\n",
    "            greedy_act = ''\n",
    "            max_q = -1e10\n",
    "            for act in world.actions_list:\n",
    "                if _q_dict[act] > max_q:\n",
    "                    greedy_act = act\n",
    "                    max_q = _q_dict[act]\n",
    "            return greedy_act\n",
    "        \n",
    "        m = len(world.actions_list)\n",
    "        greedy_act = greedyAct(q_dict)\n",
    "        p = []\n",
    "        for act in world.actions_list:\n",
    "            if act == greedy_act:\n",
    "                p.append((epsilon * 1. / m) + 1 - epsilon)\n",
    "            else:\n",
    "                p.append(epsilon * 1. / m)\n",
    "        choice = np.random.choice(world.actions_list,size = 1, p = p)\n",
    "        return choice[0]\n",
    "    \n",
    "    ep = 1 # Episode number\n",
    "    ep_max = 170 # number of max episodes\n",
    "    step_ep_list = []\n",
    "    step = 0\n",
    "    while ep < ep_max:\n",
    "        #print(\"Episode: \", ep)\n",
    "        # Initialize state\n",
    "        state = world.cell(startState)\n",
    "        trajectory = [state]\n",
    "        # Choose action from state\n",
    "        act = epsGreedy(ep, q_table[state])\n",
    "        while not world.checkTerminal(state):\n",
    "            state_prime = world.nextState(state, act)\n",
    "            reward = world.rewardFunction(state_prime)\n",
    "            act_prime = epsGreedy(ep, q_table[state_prime])\n",
    "            q_table[state][act] += alpha * (reward + gamma * q_table[state_prime][act_prime] - q_table[state][act])\n",
    "            state = state_prime\n",
    "            act = act_prime\n",
    "            # Increase Step Counter\n",
    "            step += 1\n",
    "            # Store the index of the episode of this time step\n",
    "            step_ep_list.append(ep)\n",
    "            # Update the trajectory\n",
    "            trajectory.append(state)\n",
    "        \n",
    "        if ep == (ep_max - 1):\n",
    "            trajectoryPath(world, trajectory)\n",
    "        # Increase the episode counter\n",
    "        ep += 1\n",
    "    \n",
    "    start_time = time.time()\n",
    "    plt.plot(step_ep_list)\n",
    "    print(\"Time elapsed is (in Secs): \", time.time() - start_time)\n",
    "    plt.title('WindyGridWorld_SARSA ', fontsize = 'large')\n",
    "    plt.xlabel(\"Number of Steps taken\")\n",
    "    plt.ylabel(\"Number of Episodes\")\n",
    "    plt.show()\n",
    "\n",
    "if __name__ == '__main__':\n",
    "    startState = (3, 0)\n",
    "    goalState = (3, 7)\n",
    "    world = gridWorld()\n",
    "    print(\"Plot for Option: ∈=0.1,α=0.5 \\n\")\n",
    "    gridWorld_SARSA(world, startState, goalState, alpha=0.5, epsilon=0.1)"
   ]
  },
  {
   "cell_type": "markdown",
   "metadata": {},
   "source": [
    "### 4. Q-learning algorithm\n",
    "\n",
    "Let us consider Q-learning algorithm.\n",
    "We have considered 300 episodes.\n",
    "\n",
    "Here also we will consider 3 different variations.\n",
    "* a) Epsilon = 0.1, Alpha = 0.5\n",
    "* b) Epsilon = 0.2, Alpha = 0.1\n",
    "* c) Epsilon = 0.05, Alpha = 0.2"
   ]
  },
  {
   "cell_type": "code",
   "execution_count": 36,
   "metadata": {},
   "outputs": [],
   "source": [
    "def gridWorld_QLearning(world, startState, goalState, alpha, gamma=1, ep_max=300, eps=0.1):\n",
    "    world.setTerminal(startState, goalState) \n",
    "    # Initialize Q(s, a)\n",
    "    q_dict = {}\n",
    "    for state in range(world.row * world.col):\n",
    "        q_dict[state] = {}\n",
    "        for act in world.actions_list:\n",
    "            if world.checkTerminal(state):\n",
    "                q_dict[state][act] = 0\n",
    "            else:\n",
    "                q_dict[state][act] = np.random.rand()\n",
    "\n",
    "    def greedyAct(_q_dict):\n",
    "        greedy_act = ''\n",
    "        max_q = -1e10\n",
    "        for act in world.actions_list:\n",
    "            if _q_dict[act] > max_q:\n",
    "                greedy_act = act\n",
    "                max_q = _q_dict[act]\n",
    "        return greedy_act\n",
    "\n",
    "    def epsGreedy(episode, q_dict):\n",
    "        m = len(world.actions_list)\n",
    "        greedy_act = greedyAct(q_dict)\n",
    "        p = []\n",
    "        for act in world.actions_list:\n",
    "            if act == greedy_act:\n",
    "                p.append((eps * 1. / m) + 1 - eps)\n",
    "            else:\n",
    "                p.append(eps * 1. / m)\n",
    "        choice = np.random.choice(world.actions_list, size=1, p=p)\n",
    "        return choice[0]\n",
    "\n",
    "    ep_wrt_step = []\n",
    "    trajectory = []\n",
    "    for ep in range(1, ep_max + 1):\n",
    "        s = world.start\n",
    "        trajectory = []\n",
    "        while not world.checkTerminal(s):\n",
    "            # Choose act according to behaviour policy\n",
    "            act = epsGreedy(ep, q_dict[s])\n",
    "            # take act, observe s_prime & reward\n",
    "            s_prime = world.nextState(s, act)\n",
    "            reward = world.rewardFunction(s_prime)\n",
    "\n",
    "            # choose act_prime according to target policy\n",
    "            act_prime = greedyAct(q_dict[s_prime])\n",
    "            # Update Q(s, a)\n",
    "            q_dict[s][act] += alpha * (reward + gamma * q_dict[s_prime][act_prime] - q_dict[s][act])\n",
    "\n",
    "            # store trajectory\n",
    "            trajectory.append(s)\n",
    "\n",
    "            # update current state\n",
    "            s = s_prime\n",
    "            # store the index of this episode for plot\n",
    "            ep_wrt_step.append(ep)\n",
    "        trajectory.append(world.goal)\n",
    "    return trajectory, ep_wrt_step"
   ]
  },
  {
   "cell_type": "markdown",
   "metadata": {},
   "source": [
    "### 4(a) Experiment Observations for Q-learning, ∈=0.1,α=0.5"
   ]
  },
  {
   "cell_type": "code",
   "execution_count": 38,
   "metadata": {},
   "outputs": [
    {
     "name": "stdout",
     "output_type": "stream",
     "text": [
      "Time elapsed:  0.2718014717102051\n",
      "[[ 0.  0.  0.  0.  0.  6.  7.  8.  9. 10.]\n",
      " [ 0.  0.  0.  0.  5.  0.  0.  0.  0. 11.]\n",
      " [ 0.  0.  0.  4.  0.  0.  0.  0.  0. 12.]\n",
      " [ 1.  2.  3.  0.  0.  0.  0. 18.  0. 13.]\n",
      " [ 0.  0.  0.  0.  0.  0.  0.  0.  0. 14.]\n",
      " [ 0.  0.  0.  0.  0.  0.  0.  0. 17. 15.]\n",
      " [ 0.  0.  0.  0.  0.  0.  0.  0.  0. 16.]]\n",
      "\n",
      "\n"
     ]
    },
    {
     "data": {
      "image/png": "[encoded data removed]",
      "text/plain": [
       "<Figure size 432x288 with 1 Axes>"
      ]
     },
     "metadata": {
      "needs_background": "light"
     },
     "output_type": "display_data"
    }
   ],
   "source": [
    "if __name__ == '__main__':\n",
    "    _start = (3, 0)\n",
    "    _goal = (3, 7)\n",
    "    world = gridWorld()\n",
    "    start_time = time.time()\n",
    "    trajectory, ep_wrt_step = gridWorld_QLearning(world, startState, goalState, alpha=0.5,gamma=0.9,ep_max=300, eps=0.1)\n",
    "    print(\"Time elapsed: \", time.time() - start_time)\n",
    "    trajectoryPath(world, trajectory)\n",
    "    pl.figure(1)\n",
    "    pl.plot(ep_wrt_step)\n",
    "    plt.title('WindyGridworld_Q-learning (∈=0.1,α=0.5)', fontsize = 'large')\n",
    "    pl.xlabel(\"Number of steps taken\")\n",
    "    pl.ylabel(\"Number of episodes\")\n",
    "    pl.show()"
   ]
  },
  {
   "cell_type": "markdown",
   "metadata": {},
   "source": [
    "We observed that it took 18 steps to reach GOAL state for Q-learning with ∈=0.1,α=0.5 option. Discounted factor gamma is set as 1."
   ]
  },
  {
   "cell_type": "markdown",
   "metadata": {},
   "source": [
    "### 4(b) Experiment Observations for Q-learning, ∈=0.2,α=0.1 "
   ]
  },
  {
   "cell_type": "code",
   "execution_count": 47,
   "metadata": {},
   "outputs": [
    {
     "name": "stdout",
     "output_type": "stream",
     "text": [
      "Time elapsed:  0.5920126438140869\n",
      "[[ 0.  0.  0.  0.  0. 16. 17. 18. 19. 20.]\n",
      " [ 0.  0.  0.  0. 15.  0.  0.  0.  0. 21.]\n",
      " [ 0.  0.  0.  0.  0.  0.  0.  0.  0. 22.]\n",
      " [ 2.  3.  0.  0. 13.  0.  0. 28.  0. 23.]\n",
      " [ 0.  4.  5. 12.  0.  0.  0.  0.  0. 24.]\n",
      " [ 0.  0. 11.  0.  0.  0.  0.  0. 27. 25.]\n",
      " [ 0.  9. 10.  0.  0.  0.  0.  0.  0. 26.]]\n",
      "\n",
      "\n"
     ]
    },
    {
     "data": {
      "image/png": "[encoded data removed]",
      "text/plain": [
       "<Figure size 432x288 with 1 Axes>"
      ]
     },
     "metadata": {
      "needs_background": "light"
     },
     "output_type": "display_data"
    }
   ],
   "source": [
    "if __name__ == '__main__':\n",
    "    _start = (3, 0)\n",
    "    _goal = (3, 7)\n",
    "    world = gridWorld()\n",
    "    start_time = time.time()\n",
    "    trajectory, ep_wrt_step = gridWorld_QLearning(world, startState, goalState, alpha=0.1,gamma=0.9,ep_max=300, eps=0.2)\n",
    "    print(\"Time elapsed: \", time.time() - start_time)\n",
    "    trajectoryPath(world, trajectory)\n",
    "    pl.figure(1)\n",
    "    pl.plot(ep_wrt_step)\n",
    "    plt.title('WindyGridworld_Q-learning (∈=0.2,α=0.1)', fontsize = 'large')\n",
    "    pl.xlabel(\"Number of steps taken\")\n",
    "    pl.ylabel(\"Number of episodes\")\n",
    "    pl.show()"
   ]
  },
  {
   "cell_type": "markdown",
   "metadata": {},
   "source": [
    "We observed that it took 28 steps to reach GOAL state for Q-learning with ∈=0.2,α=0.1 option. Discounted factor gamma is set as 1.\n",
    "\n",
    "Now, we will try to experiment the next option."
   ]
  },
  {
   "cell_type": "markdown",
   "metadata": {},
   "source": [
    "### 4(c) Experiment Observations for Q-learning, ∈=0.05,α=0.2"
   ]
  },
  {
   "cell_type": "code",
   "execution_count": 49,
   "metadata": {},
   "outputs": [
    {
     "name": "stdout",
     "output_type": "stream",
     "text": [
      "Time elapsed:  0.3702394962310791\n",
      "[[ 0.  0.  0.  0.  0.  0.  8.  9. 10. 11.]\n",
      " [ 0.  0.  0.  0.  0.  7.  0.  0.  0. 12.]\n",
      " [ 0.  0.  0.  0.  6.  0.  0.  0.  0. 13.]\n",
      " [ 1.  2.  0.  5.  0.  0.  0. 19.  0. 14.]\n",
      " [ 0.  3.  4.  0.  0.  0.  0.  0.  0. 15.]\n",
      " [ 0.  0.  0.  0.  0.  0.  0.  0. 18. 16.]\n",
      " [ 0.  0.  0.  0.  0.  0.  0.  0.  0. 17.]]\n",
      "\n",
      "\n"
     ]
    },
    {
     "data": {
      "image/png": "[encoded data removed]",
      "text/plain": [
       "<Figure size 432x288 with 1 Axes>"
      ]
     },
     "metadata": {
      "needs_background": "light"
     },
     "output_type": "display_data"
    }
   ],
   "source": [
    "if __name__ == '__main__':\n",
    "    _start = (3, 0)\n",
    "    _goal = (3, 7)\n",
    "    world = gridWorld()\n",
    "    start_time = time.time()\n",
    "    trajectory, ep_wrt_step = gridWorld_QLearning(world, startState, goalState, alpha=0.2,gamma=0.9,ep_max=300, eps=0.05)\n",
    "    print(\"Time elapsed: \", time.time() - start_time)\n",
    "    trajectoryPath(world, trajectory)\n",
    "    pl.figure(1)\n",
    "    pl.plot(ep_wrt_step)\n",
    "    plt.title('WindyGridworld_Q-learning (∈=0.05,α=0.2)', fontsize = 'large')\n",
    "    pl.xlabel(\"Number of steps taken\")\n",
    "    pl.ylabel(\"Number of episodes\")\n",
    "    pl.show()"
   ]
  },
  {
   "cell_type": "markdown",
   "metadata": {},
   "source": [
    "We observed that it took 19 steps to reach GOAL state for Q-learning with ∈=0.05,α=0.2 option. Discounted factor gamma is set as 1."
   ]
  },
  {
   "cell_type": "markdown",
   "metadata": {},
   "source": [
    "### 5) Summary of Interpretation\n",
    "\n",
    "So we have experimented both SARSA and Q-learning algorithms for 300 episodes and drawn plots for each of the 3 options of ∈ and α. We summarize the following:\n",
    "\n",
    "- 3a) SARSA, 300 episodes, ∈=0.1, α=0.5 => we observed 19 minimum steps taken to reach goal state\n",
    "- 3b) SARSA, 300 episodes, ∈=0.2, α=0.1 => we observed 25 minimum steps taken to reach goal state\n",
    "- 3c) SARSA, 300 episodes, ∈=0.05, α=0.2 => we observed 18 minimum steps taken to reach goal state\n",
    "\n",
    "\n",
    "- 4a) Q-learning, 300 episodes, ∈=0.1, α=0.5 => we observed 18 minimum steps taken to reach goal state\n",
    "- 4b) Q-learning, 300 episodes, ∈=0.2, α=0.1 => we observed 28 minimum steps taken to reach goal state\n",
    "- 4c) Q-learning, 300 episodes, ∈=0.05, α=0.2 => we observed 19 minimum steps taken to reach goal state\n",
    "\n",
    "We have plotted charts for \"Number of Episodes\" vs \"Number of Steps taken\" for each of the above experiments.\n",
    "\n",
    "We have observed that initially both algorithms learn in a similar fashion for few episodes. After 25-30 episodes, Q-learning started learning better and quickly compared to SARSA for ∈=0.1, α=0.5\n",
    "\n",
    "We have also reported minimum length episode that each algorithm / and it's experiments have taken to learn.\n",
    "\n",
    "![alt text](https://github.com/kkm24132/ReinforcementLearning/blob/main/04_TemporalDiff/figure/WindyGridworld_SARSAvsQlearning.png \"Compare\")\n"
   ]
  },
  {
   "cell_type": "code",
   "execution_count": null,
   "metadata": {},
   "outputs": [],
   "source": []
  },
  {
   "cell_type": "code",
   "execution_count": null,
   "metadata": {},
   "outputs": [],
   "source": []
  }
 ],
 "metadata": {
  "kernelspec": {
   "display_name": "Python 3",
   "language": "python",
   "name": "python3"
  },
  "language_info": {
   "codemirror_mode": {
    "name": "ipython",
    "version": 3
   },
   "file_extension": ".py",
   "mimetype": "text/x-python",
   "name": "python",
   "nbconvert_exporter": "python",
   "pygments_lexer": "ipython3",
   "version": "3.8.5"
  }
 },
 "nbformat": 4,
 "nbformat_minor": 4
}
